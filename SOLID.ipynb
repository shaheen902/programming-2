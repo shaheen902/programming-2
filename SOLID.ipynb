{
 "cells": [
  {
   "cell_type": "markdown",
   "metadata": {},
   "source": [
    "Single-Responsibility Principle (SRP)"
   ]
  },
  {
   "cell_type": "code",
   "execution_count": null,
   "metadata": {},
   "outputs": [],
   "source": [
    "\n",
    " \n",
    "class FileManager: \n",
    "    def __init__(self, filename): \n",
    "        self.path = Path(filename) \n",
    " \n",
    "    def read(self, encoding=\"utf-8\"): \n",
    "        return self.path.read_text(encoding) \n",
    " \n",
    "    def write(self, data, encoding=\"utf-8\"): \n",
    "        self.path.write_text(data, encoding) \n",
    " \n",
    "class ZipFileManager: \n",
    "    def __init__(self, filename): \n",
    "        self.path = Path(filename) \n",
    " \n",
    "    def compress(self): \n",
    "        with ZipFile(self.path.with_suffix(\".zip\"), mode=\"w\") as archive: \n",
    "            archive.write(self.path) \n",
    "    def decompress(self): \n",
    "        with ZipFile(self.path.with_suffix(\".zip\"), mode=\"r\") as archive: \n",
    "            archive.extractall() "
   ]
  },
  {
   "cell_type": "markdown",
   "metadata": {},
   "source": [
    "Open-Closed Principle (OCP) "
   ]
  },
  {
   "cell_type": "code",
   "execution_count": null,
   "metadata": {},
   "outputs": [],
   "source": [
    "from abc import ABC,abstractmethod\n",
    "class shape(ABC):\n",
    "    @abstractmethod\n",
    "    def area(self):\n",
    "        pass\n",
    "    @abstractmethod\n",
    "    def perimter(self):\n",
    "        pass\n",
    "class rectangle(shape):\n",
    "    def __init__(self,width,height):\n",
    "        self.width=width\n",
    "        self.height=height\n",
    "    def area(self):\n",
    "        return self.height * self.width\n",
    "    def perimter(self):\n",
    "        return 2*(self.height + self.width)\n",
    "class square(shape):\n",
    "    def __init__(self,width):\n",
    "        super().__init__()\n",
    "        self.width=width\n",
    "    def area(self):\n",
    "        return self.width*4\n",
    "    def perimter(self):\n",
    "        return self.width*self.width"
   ]
  },
  {
   "cell_type": "markdown",
   "metadata": {},
   "source": [
    "Liskov Substitution Principle (LSP) "
   ]
  },
  {
   "cell_type": "code",
   "execution_count": null,
   "metadata": {},
   "outputs": [],
   "source": [
    "from abc import ABC, abstractmethod \n",
    "class Shape(ABC): \n",
    "    @abstractmethod \n",
    "    def calculate_area(self): \n",
    "        pass \n",
    " \n",
    "class Rectangle(Shape): \n",
    "    def __init__(self, width, height): \n",
    "        self.width = width \n",
    "        self.height = height \n",
    " \n",
    "    def calculate_area(self): \n",
    "        return self.width * self.height \n",
    " \n",
    "class Square(Shape): \n",
    "    def __init__(self, side): \n",
    "        self.side = side \n",
    "    def calculate_area(self): \n",
    "        return self.side ** 2 "
   ]
  },
  {
   "cell_type": "markdown",
   "metadata": {},
   "source": [
    "Interface Segregation Principle (ISP)"
   ]
  },
  {
   "cell_type": "code",
   "execution_count": null,
   "metadata": {},
   "outputs": [],
   "source": [
    "from abc import ABC, abstractmethod \n",
    " \n",
    "class Printer(ABC): \n",
    "    @abstractmethod \n",
    "    def print(self, document): \n",
    "        pass \n",
    " \n",
    "class Fax(ABC): \n",
    "    @abstractmethod \n",
    "    def fax(self, document): \n",
    "        pass \n",
    " \n",
    "class Scanner(ABC): \n",
    "    @abstractmethod \n",
    "    def scan(self, document): \n",
    "        pass \n",
    " \n",
    "class OldPrinter(Printer): \n",
    "    def print(self, document): \n",
    "        print(f\"Printing {document} in black and white...\") \n",
    " \n",
    "class NewPrinter(Printer, Fax, Scanner): \n",
    "    def print(self, document): \n",
    "        print(f\"Printing {document} in color...\") \n",
    " \n",
    "    def fax(self, document): \n",
    "        print(f\"Faxing {document}...\") \n",
    " \n",
    "    def scan(self, document): \n",
    "        print(f\"Scanning {document}...\") \n",
    "    "
   ]
  },
  {
   "cell_type": "markdown",
   "metadata": {},
   "source": [
    "Dependency Inversion Principle (DIP) "
   ]
  },
  {
   "cell_type": "code",
   "execution_count": null,
   "metadata": {},
   "outputs": [],
   "source": [
    "from abc import ABC, abstractmethod \n",
    "class FrontEnd: \n",
    "    def __init__(self, data_source): \n",
    "        self.data_source = data_source \n",
    "    def display_data(self): \n",
    "        data = self.data_source.get_data() \n",
    "        print(\"Display data:\", data) \n",
    " \n",
    "class DataSource(ABC): \n",
    "    @abstractmethod \n",
    "    def get_data(self): \n",
    "        pass \n",
    " \n",
    "class Database(DataSource): \n",
    "    def get_data(self): \n",
    "        return \"Data from the database\" \n",
    " \n",
    "class API(DataSource): \n",
    "    def get_data(self): \n",
    "        return \"Data from the API\""
   ]
  }
 ],
 "metadata": {
  "kernelspec": {
   "display_name": "Python 3",
   "language": "python",
   "name": "python3"
  },
  "language_info": {
   "name": "python",
   "version": "3.12.3"
  }
 },
 "nbformat": 4,
 "nbformat_minor": 2
}
